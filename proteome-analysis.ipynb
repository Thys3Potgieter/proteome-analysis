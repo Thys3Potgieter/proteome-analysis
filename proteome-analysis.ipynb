{
 "metadata": {
  "name": "proteome-analysis"
 }, 
 "nbformat": 2, 
 "worksheets": [
  {
   "cells": [
    {
     "cell_type": "code", 
     "collapsed": false, 
     "input": [
      "import csv", 
      "from pandas.io.parsers import read_csv", 
      "", 
      "# first load the data from the file.", 
      "# As the file was exported from Excel, it uses Excel's encoding.", 
      "ecoli_data = read_csv('coli_data.csv',header=1,encoding='iso-8859-1')", 
      "\t    ", 
      "#Split the data loaded into two sets - weight and count.", 
      "idx = ecoli_data.columns", 
      "ecoli_data_weight = ecoli_data[idx[0:10].append(idx[29:-1])]", 
      "ecoli_data_count = ecoli_data[idx[0:28]]", 
      "", 
      "# Define the list of conditions that will be relevant for the analysis, sorted for convenience by growth rate (and the description column):", 
      "cond_list = ['glucose',u'anaerobic',u'chemostat \u00b5=0.12',u'chemostat \u00b5=0.5',", 
      "\t    u'galactose',u'acetate',u'glycerol',u'LB',u'glucosamine',u'fumarate',", 
      "\t    u'succinate',u'pyruvate',u'chemostat \u00b5=0.20']", 
      "", 
      "# Refine the DataFrames to include only these conditions (and the protein descriptions):", 
      "count_cond = [u'Description']+cond_list", 
      "ecoli_data_count = ecoli_data_count[count_cond]", 
      "", 
      "#duplicate headers are modified by read_csv and include a trailing '.1' string in their name.", 
      "weight_cond = [u'Description']+[x+'.1' for x in cond_list] ", 
      "ecoli_data_weight = ecoli_data_weight[weight_cond]", 
      "", 
      "#rename the columns to remove the trailing '.1'", 
      "ecoli_data_weight.columns = count_cond", 
      "", 
      "#convert all columns, excluding 'Description', to floats.", 
      "ecoli_data_count = ecoli_data_count[ecoli_data_count != 'below LOQ']", 
      "ecoli_data_count[cond_list] = ecoli_data_count[cond_list].astype('float')", 
      "", 
      "ecoli_data_weight = ecoli_data_weight[ecoli_data_weight != 'below LOQ']", 
      "ecoli_data_weight[cond_list] = ecoli_data_weight[cond_list].astype('float')", 
      "", 
      "#Normalize each set to get concentrations (in mass/volume molecules/volume respectively)", 
      "ecoli_data_weight[cond_list] = ecoli_data_weight[cond_list] / ecoli_data_weight[cond_list].sum()", 
      "ecoli_data_count[cond_list] = ecoli_data_count[cond_list] / ecoli_data_count[cond_list].sum()", 
      "", 
      "#get the ribosomal proteins.", 
      "ecoli_data_weight['Description']", 
      "ribs = ecoli_data_weight['Description'].map(lambda x: 'ribosomal protein' in x)", 
      "# ecoli_data_weight[ribs]"
     ], 
     "language": "python", 
     "outputs": [
      {
       "ename": "TypeError", 
       "evalue": "argument of type 'float' is not iterable", 
       "output_type": "pyerr", 
       "traceback": [
        "\u001b[0;31m---------------------------------------------------------------------------\u001b[0m\n\u001b[0;31mTypeError\u001b[0m                                 Traceback (most recent call last)", 
        "\u001b[0;32m/home/uri/work/proteome-analysis/<ipython-input-76-b2eb871cf1fd>\u001b[0m in \u001b[0;36m<module>\u001b[0;34m()\u001b[0m\n\u001b[1;32m     40\u001b[0m \u001b[0;31m#get the ribosomal proteins.\u001b[0m\n\u001b[0;34m\u001b[0m\u001b[0m\n\u001b[1;32m     41\u001b[0m \u001b[0mecoli_data_weight\u001b[0m\u001b[0;34m[\u001b[0m\u001b[0;34m'Description'\u001b[0m\u001b[0;34m]\u001b[0m\u001b[0;34m\u001b[0m\u001b[0m\n\u001b[0;32m---> 42\u001b[0;31m \u001b[0mribs\u001b[0m \u001b[0;34m=\u001b[0m \u001b[0mecoli_data_weight\u001b[0m\u001b[0;34m[\u001b[0m\u001b[0;34m'Description'\u001b[0m\u001b[0;34m]\u001b[0m\u001b[0;34m.\u001b[0m\u001b[0mmap\u001b[0m\u001b[0;34m(\u001b[0m\u001b[0;32mlambda\u001b[0m \u001b[0mx\u001b[0m\u001b[0;34m:\u001b[0m \u001b[0;34m'ribosomal protein'\u001b[0m \u001b[0;32min\u001b[0m \u001b[0mx\u001b[0m\u001b[0;34m)\u001b[0m\u001b[0;34m\u001b[0m\u001b[0m\n\u001b[0m\u001b[1;32m     43\u001b[0m \u001b[0;31m# ecoli_data_weight[ribs]\u001b[0m\n\u001b[0;34m\u001b[0m\u001b[0m\n", 
        "\u001b[0;32m/usr/local/lib/python2.7/dist-packages/pandas/core/series.pyc\u001b[0m in \u001b[0;36mmap\u001b[0;34m(self, arg, na_action)\u001b[0m\n\u001b[1;32m   2406\u001b[0m             \u001b[0;32mreturn\u001b[0m \u001b[0mSeries\u001b[0m\u001b[0;34m(\u001b[0m\u001b[0mnew_values\u001b[0m\u001b[0;34m,\u001b[0m \u001b[0mindex\u001b[0m\u001b[0;34m=\u001b[0m\u001b[0mself\u001b[0m\u001b[0;34m.\u001b[0m\u001b[0mindex\u001b[0m\u001b[0;34m,\u001b[0m \u001b[0mname\u001b[0m\u001b[0;34m=\u001b[0m\u001b[0mself\u001b[0m\u001b[0;34m.\u001b[0m\u001b[0mname\u001b[0m\u001b[0;34m)\u001b[0m\u001b[0;34m\u001b[0m\u001b[0m\n\u001b[1;32m   2407\u001b[0m         \u001b[0;32melse\u001b[0m\u001b[0;34m:\u001b[0m\u001b[0;34m\u001b[0m\u001b[0m\n\u001b[0;32m-> 2408\u001b[0;31m             \u001b[0mmapped\u001b[0m \u001b[0;34m=\u001b[0m \u001b[0mmap_f\u001b[0m\u001b[0;34m(\u001b[0m\u001b[0mvalues\u001b[0m\u001b[0;34m,\u001b[0m \u001b[0marg\u001b[0m\u001b[0;34m)\u001b[0m\u001b[0;34m\u001b[0m\u001b[0m\n\u001b[0m\u001b[1;32m   2409\u001b[0m             \u001b[0;32mreturn\u001b[0m \u001b[0mSeries\u001b[0m\u001b[0;34m(\u001b[0m\u001b[0mmapped\u001b[0m\u001b[0;34m,\u001b[0m \u001b[0mindex\u001b[0m\u001b[0;34m=\u001b[0m\u001b[0mself\u001b[0m\u001b[0;34m.\u001b[0m\u001b[0mindex\u001b[0m\u001b[0;34m,\u001b[0m \u001b[0mname\u001b[0m\u001b[0;34m=\u001b[0m\u001b[0mself\u001b[0m\u001b[0;34m.\u001b[0m\u001b[0mname\u001b[0m\u001b[0;34m)\u001b[0m\u001b[0;34m\u001b[0m\u001b[0m\n\u001b[1;32m   2410\u001b[0m \u001b[0;34m\u001b[0m\u001b[0m\n", 
        "\u001b[0;32m/usr/local/lib/python2.7/dist-packages/pandas/lib.so\u001b[0m in \u001b[0;36mpandas.lib.map_infer (pandas/lib.c:41822)\u001b[0;34m()\u001b[0m\n", 
        "\u001b[0;32m/home/uri/work/proteome-analysis/<ipython-input-76-b2eb871cf1fd>\u001b[0m in \u001b[0;36m<lambda>\u001b[0;34m(x)\u001b[0m\n\u001b[1;32m     40\u001b[0m \u001b[0;31m#get the ribosomal proteins.\u001b[0m\n\u001b[0;34m\u001b[0m\u001b[0m\n\u001b[1;32m     41\u001b[0m \u001b[0mecoli_data_weight\u001b[0m\u001b[0;34m[\u001b[0m\u001b[0;34m'Description'\u001b[0m\u001b[0;34m]\u001b[0m\u001b[0;34m\u001b[0m\u001b[0m\n\u001b[0;32m---> 42\u001b[0;31m \u001b[0mribs\u001b[0m \u001b[0;34m=\u001b[0m \u001b[0mecoli_data_weight\u001b[0m\u001b[0;34m[\u001b[0m\u001b[0;34m'Description'\u001b[0m\u001b[0;34m]\u001b[0m\u001b[0;34m.\u001b[0m\u001b[0mmap\u001b[0m\u001b[0;34m(\u001b[0m\u001b[0;32mlambda\u001b[0m \u001b[0mx\u001b[0m\u001b[0;34m:\u001b[0m \u001b[0;34m'ribosomal protein'\u001b[0m \u001b[0;32min\u001b[0m \u001b[0mx\u001b[0m\u001b[0;34m)\u001b[0m\u001b[0;34m\u001b[0m\u001b[0m\n\u001b[0m\u001b[1;32m     43\u001b[0m \u001b[0;31m# ecoli_data_weight[ribs]\u001b[0m\n\u001b[0;34m\u001b[0m\u001b[0m\n", 
        "\u001b[0;31mTypeError\u001b[0m: argument of type 'float' is not iterable"
       ]
      }
     ], 
     "prompt_number": 76
    }, 
    {
     "cell_type": "code", 
     "collapsed": false, 
     "input": [], 
     "language": "python", 
     "outputs": []
    }
   ]
  }
 ]
}