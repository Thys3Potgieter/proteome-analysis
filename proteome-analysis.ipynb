{
 "metadata": {
  "name": "proteome-analysis"
 }, 
 "nbformat": 2, 
 "worksheets": [
  {
   "cells": [
    {
     "cell_type": "code", 
     "collapsed": false, 
     "input": [
      "import csv", 
      "with open('coli_data.csv','rb') as csvfile:", 
      "     datareader = csv.reader(csvfile)", 
      "     i=0", 
      "     for row in datareader:", 
      "     \t i=i+1", 
      "     \t print row", 
      "\t if i == 5:", 
      "\t    break"
     ], 
     "language": "python", 
     "outputs": [
      {
       "output_type": "stream", 
       "stream": "stdout", 
       "text": [
        "['', '', '', '', '', '', '', '', '', '', '', '', '', '', '', '', '', '', '', '', '', '', '', '', '', '', '', '', '', 'Protein Mass (Da) / Cell', '', '', '', '', '', '', '', '', '', '', '', '', '', '', '', '', '', '']", 
        "['Accession', 'UP_AC', 'Description', 'Peptide count', 'Peptides used for quantitation', 'Confidence score', 'Gene', 'nb of possible Peptides', 'Molecular weight (Da)', 'LC-MS Experiment', 'glucose', '50 mM NaCl', 'pH 6', '42\\xb0C', 'anaerobic', 'stationary 1 day', 'stationary 3 days', 'chemostat \\xb5=0.12', 'chemostat \\xb5=0.5', 'galactose', 'acetate', 'glycerol', 'LB', 'glucosamine', 'fumarate', 'succinate', 'pyruvate', 'chemostat \\xb5=0.20', 'chemostat \\xb5=0.35', 'glucose', '50 mM NaCl', 'pH 6', '42\\xb0C', 'anaerobic', 'stationary 1 day', 'stationary 3 days', 'chemostat \\xb5=0.12', 'chemostat \\xb5=0.5', 'galactose', 'acetate', 'glycerol', 'LB', 'glucosamine', 'fumarate', 'succinate', 'pyruvate', 'chemostat \\xb5=0.20', 'chemostat \\xb5=0.35']", 
        "['sp|P0A8V2|RPOB_ECOLI', 'P0A8V2', 'DNA-directed RNA polymerase subunit beta OS=Escherichia coli (strain K12) GN=rpoB PE=1 SV=1', '92', '87', '6820.94', 'rpoB', '76', '150520.2758', 'No fractionation', '3028.415363', '2518.595558', '2339.675497', '2568.35508', '1258.835925', '245.2627779', '448.1021281', '418.1452468', '1157.630417', '707.7293371', '838.5576897', '1510.031732', '5753.736945', '2030.739511', '1376.243395', '1409.41847', '1025.939049', '514.0665592', '744.5989524', '455837915.6', '379099698', '352168601.1', '386589515', '189480330.7', '36917020.98', '67448455.91', '62939337.87', '174246849.7', '106527615', '126219934.7', '227290392.8', '866054071.8', '305667471.3', '207152535.3', '212146056.8', '154424628.6', '77377440.26', '112077239.7']", 
        "['sp|P0AFG8|ODP1_ECOLI', 'P0AFG8', 'Pyruvate dehydrogenase E1 component OS=Escherichia coli (strain K12) GN=aceE PE=1 SV=2', '83', '78', '6234.39', 'aceE', '54', '99587.94042', 'No fractionation', '4937.642761', '4870.102906', '5097.44273', '4575.166509', '1748.381832', '536.2871131', '689.6771701', '882.2989523', '1975.377677', '1348.176369', '1390.168842', '2648.075056', '13859.06604', '5898.090169', '2943.656912', '3141.065519', '5128.913032', '998.4118476', '1244.284636', '491729673.1', '485003518', '507643822.9', '455631409.7', '174117745.7', '53407729.07', '68683528.93', '87866335.5', '196723794.4', '134262107.9', '138444051.8', '263716340.9', '1380195843', '587378652.3', '293152729.1', '312812245.7', '510777885.4', '99429779.6', '123915744.2']", 
        "['sp|P36683|ACON2_ECOLI', 'P36683', 'Aconitate hydratase 2 OS=Escherichia coli (strain K12) GN=acnB PE=1 SV=3', '83', '77', '6451.7', 'acnB', '50', '93420.9457', 'No fractionation', '4637.238078', '4260.572296', '4225.519677', '3835.519749', '2522.031579', '664.4730224', '565.0798248', '2812.559499', '5137.355486', '3527.181706', '6381.763261', '3925.915297', '5948.561415', '4364.835733', '6069.312986', '6957.836931', '5085.870015', '3635.305107', '4596.969633', '433215166.7', '398026693.1', '394752044.3', '358317882.2', '235610575.2', '62075698.14', '52790291.63', '262751968.2', '479936607.9', '329512650.6', '596190359.1', '366762719.8', '555720233', '407767082', '567000958.9', '650007706.1', '475126786.5', '339613641', '429453250.5']"
       ]
      }
     ], 
     "prompt_number": 5
    }, 
    {
     "cell_type": "code", 
     "collapsed": false, 
     "input": [], 
     "language": "python", 
     "outputs": []
    }
   ]
  }
 ]
}