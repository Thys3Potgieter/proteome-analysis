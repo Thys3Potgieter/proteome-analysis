{
 "metadata": {
  "name": "proteome-analysis"
 }, 
 "nbformat": 2, 
 "worksheets": [
  {
   "cells": [
    {
     "cell_type": "code", 
     "collapsed": false, 
     "input": [
      "import csv", 
      "from pandas.io.parsers import read_csv", 
      "", 
      "ecoli_data = None", 
      "# first load the data from the file.", 
      "with open('coli_data.csv','rb') as csvfile:", 
      "     # as the file was exported from Excel, it uses Excel's encoding", 
      "    ecoli_data = read_csv(csvfile,header=1,encoding='iso-8859-1')", 
      "\t    ", 
      "#print a summary of the DataFrame loaded", 
      "ecoli_data"
     ], 
     "language": "python", 
     "outputs": [
      {
       "output_type": "pyout", 
       "prompt_number": 10, 
       "text": [
        "<class 'pandas.core.frame.DataFrame'>", 
        "Int64Index: 2040 entries, 0 to 2039", 
        "Data columns:", 
        "Accession                         2039  non-null values", 
        "UP_AC                             2039  non-null values", 
        "Description                       2039  non-null values", 
        "Peptide count                     2039  non-null values", 
        "Peptides used for quantitation    2039  non-null values", 
        "Confidence score                  2039  non-null values", 
        "Gene                              2039  non-null values", 
        "nb of possible Peptides           2039  non-null values", 
        "Molecular weight (Da)             2039  non-null values", 
        "LC-MS Experiment                  2039  non-null values", 
        "glucose                           2039  non-null values", 
        "50 mM NaCl                        2039  non-null values", 
        "pH 6                              2039  non-null values", 
        "42?C                              2039  non-null values", 
        "anaerobic                         2039  non-null values", 
        "stationary 1 day                  2039  non-null values", 
        "stationary 3 days                 2039  non-null values", 
        "chemostat ?=0.12                  2039  non-null values", 
        "chemostat ?=0.5                   2039  non-null values", 
        "galactose                         2039  non-null values", 
        "acetate                           2039  non-null values", 
        "glycerol                          2039  non-null values", 
        "LB                                2039  non-null values", 
        "glucosamine                       2039  non-null values", 
        "fumarate                          2039  non-null values", 
        "succinate                         2039  non-null values", 
        "pyruvate                          2039  non-null values", 
        "chemostat ?=0.20                  2039  non-null values", 
        "chemostat ?=0.35                  2039  non-null values", 
        "glucose.1                         2040  non-null values", 
        "50 mM NaCl.1                      2040  non-null values", 
        "pH 6.1                            2040  non-null values", 
        "42?C.1                            2040  non-null values", 
        "anaerobic.1                       2040  non-null values", 
        "stationary 1 day.1                2040  non-null values", 
        "stationary 3 days.1               2040  non-null values", 
        "chemostat ?=0.12.1                2040  non-null values", 
        "chemostat ?=0.5.1                 2040  non-null values", 
        "galactose.1                       2040  non-null values", 
        "acetate.1                         2040  non-null values", 
        "glycerol.1                        2040  non-null values", 
        "LB.1                              2040  non-null values", 
        "glucosamine.1                     2040  non-null values", 
        "fumarate.1                        2040  non-null values", 
        "succinate.1                       2040  non-null values", 
        "pyruvate.1                        2040  non-null values", 
        "chemostat ?=0.20.1                2040  non-null values", 
        "chemostat ?=0.35.1                2040  non-null values", 
        "dtypes: float64(5), object(43)"
       ]
      }
     ], 
     "prompt_number": 10
    }, 
    {
     "cell_type": "code", 
     "collapsed": false, 
     "input": [], 
     "language": "python", 
     "outputs": []
    }
   ]
  }
 ]
}