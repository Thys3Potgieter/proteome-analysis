{
 "metadata": {
  "name": "proteome-analysis"
 }, 
 "nbformat": 2, 
 "worksheets": [
  {
   "cells": [
    {
     "cell_type": "code", 
     "collapsed": false, 
     "input": [
      "import csv", 
      "from pandas.io.parsers import read_csv", 
      "", 
      "# first load the data from the file.", 
      "# As the file was exported from Excel, it uses Excel's encoding.", 
      "ecoli_data = read_csv('coli_data.csv',header=1,encoding='iso-8859-1')", 
      "\t    ", 
      "#Split the data loaded into two sets - weight and count.", 
      "idx = ecoli_data.columns", 
      "ecoli_data_weight = ecoli_data[idx[0:10].append(idx[29:-1])]", 
      "ecoli_data_count = ecoli_data[idx[0:28]]", 
      "", 
      "# Define the list of conditions that will be relevant for the analysis, sorted for convenience by growth rate (and the description column):", 
      "cond_list = ['glucose',u'anaerobic',u'chemostat \u00b5=0.12',u'chemostat \u00b5=0.5',", 
      "\t    u'galactose',u'acetate',u'glycerol',u'LB',u'glucosamine',u'fumarate',", 
      "\t    u'succinate',u'pyruvate',u'chemostat \u00b5=0.20']", 
      "", 
      "# Refine the DataFrames to include only these conditions (and the protein descriptions):", 
      "count_cond = [u'Description']+cond_list", 
      "ecoli_data_count = ecoli_data_count[count_cond]", 
      "", 
      "#duplicate headers are modified by read_csv and include a trailing '.1' string in their name.", 
      "weight_cond = [u'Description']+[x+'.1' for x in cond_list] ", 
      "ecoli_data_weight = ecoli_data_weight[weight_cond]", 
      "", 
      "#rename the columns to remove the trailing '.1'", 
      "ecoli_data_weight.columns = count_cond", 
      "", 
      "#convert all columns, excluding 'Description', to floats.", 
      "ecoli_data_count = ecoli_data_count[ecoli_data_count != 'below LOQ']", 
      "ecoli_data_count[cond_list] = ecoli_data_count[cond_list].astype('float')", 
      "", 
      "ecoli_data_weight = ecoli_data_weight[ecoli_data_weight != 'below LOQ']", 
      "ecoli_data_weight[cond_list] = ecoli_data_weight[cond_list].astype('float')", 
      "", 
      "#Normalize each set to get concentrations (in mass/volume molecules/volume respectively)", 
      "ecoli_data_weight[cond_list] = ecoli_data_weight[cond_list] / ecoli_data_weight[cond_list].sum()", 
      "ecoli_data_count[cond_list] = ecoli_data_count[cond_list] / ecoli_data_count[cond_list].sum()", 
      "ecoli_data_weight"
     ], 
     "language": "python", 
     "outputs": [
      {
       "html": [
        "<pre>", 
        "&ltclass 'pandas.core.frame.DataFrame'&gt", 
        "Int64Index: 2040 entries, 0 to 2039", 
        "Data columns (total 14 columns):", 
        "Description         2039  non-null values", 
        "glucose             2035  non-null values", 
        "anaerobic           2034  non-null values", 
        "chemostat \u00b5=0.12    2031  non-null values", 
        "chemostat \u00b5=0.5     2035  non-null values", 
        "galactose           2030  non-null values", 
        "acetate             2033  non-null values", 
        "glycerol            2032  non-null values", 
        "LB                  2033  non-null values", 
        "glucosamine         2028  non-null values", 
        "fumarate            2024  non-null values", 
        "succinate           2035  non-null values", 
        "pyruvate            2024  non-null values", 
        "chemostat \u00b5=0.20    2012  non-null values", 
        "dtypes: float64(13), object(1)", 
        "</pre>"
       ], 
       "output_type": "pyout", 
       "prompt_number": 72, 
       "text": [
        "<class 'pandas.core.frame.DataFrame'>", 
        "Int64Index: 2040 entries, 0 to 2039", 
        "Data columns (total 14 columns):", 
        "Description         2039  non-null values", 
        "glucose             2035  non-null values", 
        "anaerobic           2034  non-null values", 
        "chemostat \u00b5=0.12    2031  non-null values", 
        "chemostat \u00b5=0.5     2035  non-null values", 
        "galactose           2030  non-null values", 
        "acetate             2033  non-null values", 
        "glycerol            2032  non-null values", 
        "LB                  2033  non-null values", 
        "glucosamine         2028  non-null values", 
        "fumarate            2024  non-null values", 
        "succinate           2035  non-null values", 
        "pyruvate            2024  non-null values", 
        "chemostat \u00b5=0.20    2012  non-null values", 
        "dtypes: float64(13), object(1)"
       ]
      }
     ], 
     "prompt_number": 72
    }, 
    {
     "cell_type": "code", 
     "collapsed": false, 
     "input": [], 
     "language": "python", 
     "outputs": []
    }
   ]
  }
 ]
}