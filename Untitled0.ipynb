{
 "metadata": {
  "name": "Untitled0"
 }, 
 "nbformat": 2, 
 "worksheets": [
  {
   "cells": [
    {
     "cell_type": "code", 
     "collapsed": false, 
     "input": [
      "import csv", 
      "from pandas.io.parsers import read_csv", 
      "import pandas as pd", 
      "from scipy.stats import gaussian_kde,linregress", 
      "", 
      "#load uniprot to eco gene id mapping:", 
      "uni_to_eco = read_csv('eco_uniprot_mapping.csv',sep='[\\t:]',encoding='iso-8859-1',header = None, names = ['eco','bla','uniprot'])", 
      "print uni_to_eco", 
      "", 
      "#load the eco annotation tree:", 
      "annotations = pd.DataFrame(columns = ('Category','SubCategory','Component','Uniprot'))", 
      "with open('hierarchy_standardised.tms','rb') as annot_file:", 
      "     annots = csv.reader(annot_file,delimiter='\\t') #,encoding='iso-8859-1')", 
      "     for row in annots:", 
      "     \t if len(row) == 2:", 
      "\t    cat = row [-1]", 
      "\t elif len(row) == 3:", 
      "\t      subcat = row[-1]", 
      "\t elif len(row) == 4:", 
      "\t      component = row[-1]", 
      "\t elif len(row) == 5:", 
      "\t    annot = pd.DataFrame([dict(Category=cat,SubCategory=subcat,Component=component,Uniprot=row[-1])])", 
      "\t    annotations = annotations.append(annot)", 
      "\t      ", 
      "# define the growth rates:", 
      "gr = {u'glucose': 0.6, u'anaerobic' : 0.55, u'chemostat \\u00b5=0.12': 0.12, u'chemostat \\u00b5=0.5':0.5, u'galactose':0.17, u'acetate':0.29, u'glycerol':0.47,", 
      "#     u'LB':1.61,", 
      "     u'glucosamine':0.39, u'fumarate':0.47, u'succinate':0.49, u'pyruvate':0.4, u'chemostat \\u00b5=0.20':0.2}", 
      "gr = pd.Series(gr)", 
      "", 
      "# first load the data from the file.", 
      "# As the file was exported from Excel, it uses Excel's encoding.", 
      "ecoli_data = read_csv('coli_data.csv',header=1,encoding='iso-8859-1')", 
      "", 
      "#Split the data loaded into two sets - weight and count.", 
      "idx = ecoli_data.columns", 
      "ecoli_data_weight = ecoli_data[idx[0:10].append(idx[29:-1])]", 
      "ecoli_data_count = ecoli_data[idx[0:28]]", 
      "", 
      "# Define the list of conditions that will be relevant for the analysis, (and the description column):", 
      "cond_list = ['glucose',u'anaerobic',u'chemostat \\u00b5=0.12',u'chemostat \\u00b5=0.5',", 
      "    u'galactose',u'acetate',u'glycerol',u'glucosamine',u'fumarate',", 
      "    u'succinate',u'pyruvate',u'chemostat \\u00b5=0.20']", 
      "#Define the text fields that will be relevant for the analysis:", 
      "desc_list = ['Description','UP_AC']", 
      "", 
      "# Refine the DataFrames to include only these conditions (and the protein descriptions):", 
      "count_cond = desc_list+cond_list", 
      "ecoli_data_count = ecoli_data_count[count_cond]", 
      "", 
      "#duplicate headers are modified by read_csv and include a trailing '.1' string in their name.", 
      "weight_cond = desc_list+[x+'.1' for x in cond_list] ", 
      "ecoli_data_weight = ecoli_data_weight[weight_cond]", 
      "", 
      "#rename the columns to remove the trailing '.1'", 
      "ecoli_data_weight.columns = count_cond", 
      "", 
      "#select the relevant data for analysis out of the two options:", 
      "ecoli_data = ecoli_data_count", 
      "", 
      "#convert all columns, excluding 'Description', to floats, and 'Description' to string.", 
      "ecoli_data = ecoli_data[ecoli_data != 'below LOQ']", 
      "ecoli_data[cond_list] = ecoli_data[cond_list].astype('float')", 
      "ecoli_data[desc_list] = ecoli_data[desc_list].astype('string')", 
      "", 
      "#Normalize each set to get concentrations (in mass/volume molecules/volume respectively)", 
      "ecoli_data[cond_list] = ecoli_data[cond_list] / ecoli_data[cond_list].sum()", 
      "", 
      "#get the ribosomal proteins.", 
      "ecoli_data_values = ecoli_data.drop(desc_list,1)", 
      "ecoli_data_values = ecoli_data_values.dropna()", 
      "", 
      "ribs_data = ecoli_data_values[ribs]", 
      "ribs = ecoli_data['Description'].map(lambda x: 'ribosomal protein' in x)", 
      "ribs_avg = ribs_data.sum()", 
      "gr = gr[ribs_avg.index]"
     ], 
     "language": "python", 
     "outputs": [
      {
       "output_type": "stream", 
       "stream": "stdout", 
       "text": [
        "<class 'pandas.core.frame.DataFrame'>", 
        "Int64Index: 2040 entries, 0 to 2039", 
        "Data columns (total 3 columns):", 
        "eco        2040  non-null values", 
        "bla        2040  non-null values", 
        "uniprot    2040  non-null values", 
        "dtypes: object(3)", 
        "<class 'pandas.core.frame.DataFrame'>", 
        "Int64Index: 6338 entries, 0 to 0", 
        "Data columns (total 4 columns):", 
        "Category       6338  non-null values", 
        "Component      6338  non-null values", 
        "SubCategory    6338  non-null values", 
        "Uniprot        6338  non-null values", 
        "dtypes: object(4)"
       ]
      }, 
      {
       "output_type": "stream", 
       "stream": "stdout", 
       "text": [
        ""
       ]
      }
     ], 
     "prompt_number": 69
    }, 
    {
     "cell_type": "code", 
     "collapsed": false, 
     "input": [
      "########################### Analysis of correlation of proteins to growth rate. Ribosomal and all.", 
      "covs = []", 
      "for row_index, row in ribs_data.iterrows():", 
      "    covs.append(row.cov(gr)/(row.std() * gr.std()))", 
      "    ", 
      "density = gaussian_kde(covs)", 
      "xs = linspace(-1,1,100)", 
      "plot(xs,density(xs))", 
      "", 
      "# and now for all the data:", 
      "", 
      "covs = []", 
      "noise = []", 
      "slopes = []", 
      "mins = []", 
      "positive = 0", 
      "high_correlation_indices = []", 
      "i = 0", 
      "prots = {}", 
      "high_cor_prots = {}", 
      "for row_index, row in ecoli_data_values.iterrows():", 
      "    desc = []", 
      "    # calculate the correlation", 
      "    cov = row.cov(gr)/(row.std() * gr.std())", 
      "    # get the protein annotation information", 
      "    eco = ecoli_data['UP_AC'][row_index]", 
      "    uniprot = uni_to_eco[uni_to_eco['uniprot'] == eco]['eco'].values.astype('string')[0]", 
      "    if uniprot != 'NotMapped':", 
      "\tdesc = annotations[annotations['Uniprot'] == uniprot].values.astype('string')", 
      "\tif len(desc)>0:", 
      "\t# set the counters of all the annotation fields that this protein belong to.", 
      "\t    for i in range(0,3):", 
      "\t\tif desc[0][i] not in prots:", 
      "\t\t   prots[desc[0][i]]=0", 
      "\t\tprots[desc[0][i]]+=1", 
      "", 
      "    noise.append(row.std()/row.mean())", 
      "    #slope, intercept, r, p, errs = linregress(gr/gr.mean(),row/row.mean())", 
      "    ngr = gr/gr.mean()", 
      "    nrow = row/row.mean()", 
      "    slope = nrow.cov(ngr)/ngr.var()", 
      "    slopes.append(slope)", 
      "    #slopes.append(10*row.cov(gr)/gr.var())", 
      "    covs.append(cov)", 
      "    if slope > 0:", 
      "       positive += 1", 
      "#    if log(row.min())>-25:", 
      "#\tcovs.append(cov)", 
      "#\tmins.append(log(row.min()))", 
      "    if cov > 0.3: # threshold for gr correlated protein", 
      "\thigh_correlation_indices.append(row_index) ", 
      "\tif len(desc) > 0:", 
      "\t    for i in range(0,3):", 
      "\t\tif desc[0][i] not in high_cor_prots:", 
      "\t\t   high_cor_prots[desc[0][i]]=0", 
      "\t\thigh_cor_prots[desc[0][i]]+=1", 
      "density = gaussian_kde(covs)", 
      "#density = gaussian_kde(slopes)", 
      "plot(xs,density(xs))", 
      "# plot(slopes,covs,'.')", 
      "print \"high correlation indices: %d\" % len(high_correlation_indices)", 
      "print \"number of proteins compared: %d\" % len(covs)", 
      "print \"number of proteins with positive correlation: %d\" % positive", 
      "print \"correlation by categories:\"", 
      "for i in annotations.Category.unique():", 
      "    if i in prots:", 
      "\tif i in high_cor_prots:", 
      "\t    print \"%s : %d / %d\" % (i,high_cor_prots[i],prots[i])", 
      "\telse:", 
      "\t    print \"%s : %d / %d\" % (i,0,prots[i])", 
      "", 
      "print \"correlation by sub-categories:\"", 
      "for i in annotations.SubCategory.unique():", 
      "    if i in prots:", 
      "\tif i in high_cor_prots:", 
      "\t    print \"%s : %d / %d\" % (i,high_cor_prots[i],prots[i])", 
      "\telse:", 
      "\t    print \"%s : %d / %d\" % (i,0,prots[i])"
     ], 
     "language": "python", 
     "outputs": [
      {
       "output_type": "stream", 
       "stream": "stdout", 
       "text": [
        "high correlation indices: 1118", 
        "number of proteins compared: 1987", 
        "number of proteins with positive correlation: 1448", 
        "correlation by categories:", 
        "Genetic Information Processing : 212 / 289", 
        "Environmental Information Processing : 10 / 26", 
        "Cellular Processes : 6 / 16", 
        "Metabolism : 400 / 658", 
        "correlation by sub-categories:", 
        "Transcription : 25 / 44", 
        "Translation : 97 / 109", 
        "Folding, Sorting and Degradation : 59 / 87", 
        "DNA maintenance : 31 / 49", 
        "Signal Transduction : 10 / 26", 
        "Vesicular transport : 0 / 3", 
        "Cytoskeleton : 3 / 5", 
        "Cell Motility : 2 / 5", 
        "Cell Growth and Death : 1 / 3", 
        "Membrane Transport : 27 / 81", 
        "Carbohydrate Metabolism : 65 / 138", 
        "Energy Metabolism : 28 / 37", 
        "Lipid Metabolism : 15 / 34", 
        "Nucleotide Metabolism : 51 / 70", 
        "Amino Acid Metabolism : 91 / 113", 
        "Metabolism of Other Amino Acids : 16 / 24", 
        "Glycan Biosynthesis and Metabolism : 8 / 14", 
        "Metabolism of Cofactors and Vitamins : 49 / 65", 
        "Metabolism of Terpenoids and Polyketides : 13 / 16", 
        "Xenobiotics Biodegradation and Metabolism : 3 / 4", 
        "Other enzymes : 68 / 124"
       ]
      }, 
      {
       "output_type": "display_data", 
       "png": "[encoded data removed]"
      }
     ], 
     "prompt_number": 92
    }, 
    {
     "cell_type": "code", 
     "collapsed": false, 
     "input": [
      "hist(covs,20)"
     ], 
     "language": "python", 
     "outputs": [
      {
       "output_type": "pyout", 
       "prompt_number": 14, 
       "text": [
        "(array([ 44,  66,  73,  56,  61,  57,  58,  72,  60,  71,  89, 112, 125,", 
        "       133, 166, 170, 206, 188, 116,  64]),", 
        " array([-0.94933369, -0.85429389, -0.75925409, -0.66421429, -0.56917449,", 
        "       -0.47413469, -0.3790949 , -0.2840551 , -0.1890153 , -0.0939755 ,", 
        "        0.0010643 ,  0.0961041 ,  0.1911439 ,  0.28618369,  0.38122349,", 
        "        0.47626329,  0.57130309,  0.66634289,  0.76138269,  0.85642249,", 
        "        0.95146229]),", 
        " <a list of 20 Patch objects>)"
       ]
      }, 
      {
       "output_type": "display_data", 
       "png": "[encoded data removed]"
      }
     ], 
     "prompt_number": 14
    }, 
    {
     "cell_type": "code", 
     "collapsed": false, 
     "input": [
      "# plot the correlation of growth rate to the sum of ribosomal proteins", 
      "plot(gr.values,ribs_avg.values,'.')"
     ], 
     "language": "python", 
     "outputs": [
      {
       "output_type": "pyout", 
       "prompt_number": 15, 
       "text": [
        "[<matplotlib.lines.Line2D at 0xaa91d0c>]"
       ]
      }, 
      {
       "output_type": "display_data", 
       "png": "[encoded data removed]"
      }
     ], 
     "prompt_number": 15
    }, 
    {
     "cell_type": "code", 
     "collapsed": false, 
     "input": [
      "plot(mins,covs,'.')"
     ], 
     "language": "python", 
     "outputs": [
      {
       "ename": "ValueError", 
       "evalue": "x and y must have same first dimension", 
       "output_type": "pyerr", 
       "traceback": [
        "\u001b[0;31m---------------------------------------------------------------------------\u001b[0m\n\u001b[0;31mValueError\u001b[0m                                Traceback (most recent call last)", 
        "\u001b[0;32m/home/uri/work/proteome-analysis/<ipython-input-16-c38b01d7c7ed>\u001b[0m in \u001b[0;36m<module>\u001b[0;34m()\u001b[0m\n\u001b[0;32m----> 1\u001b[0;31m \u001b[0mplot\u001b[0m\u001b[0;34m(\u001b[0m\u001b[0mmins\u001b[0m\u001b[0;34m,\u001b[0m\u001b[0mcovs\u001b[0m\u001b[0;34m,\u001b[0m\u001b[0;34m'.'\u001b[0m\u001b[0;34m)\u001b[0m\u001b[0;34m\u001b[0m\u001b[0m\n\u001b[0m", 
        "\u001b[0;32m/usr/lib/pymodules/python2.7/matplotlib/pyplot.pyc\u001b[0m in \u001b[0;36mplot\u001b[0;34m(*args, **kwargs)\u001b[0m\n\u001b[1;32m   2465\u001b[0m         \u001b[0max\u001b[0m\u001b[0;34m.\u001b[0m\u001b[0mhold\u001b[0m\u001b[0;34m(\u001b[0m\u001b[0mhold\u001b[0m\u001b[0;34m)\u001b[0m\u001b[0;34m\u001b[0m\u001b[0m\n\u001b[1;32m   2466\u001b[0m     \u001b[0;32mtry\u001b[0m\u001b[0;34m:\u001b[0m\u001b[0;34m\u001b[0m\u001b[0m\n\u001b[0;32m-> 2467\u001b[0;31m         \u001b[0mret\u001b[0m \u001b[0;34m=\u001b[0m \u001b[0max\u001b[0m\u001b[0;34m.\u001b[0m\u001b[0mplot\u001b[0m\u001b[0;34m(\u001b[0m\u001b[0;34m*\u001b[0m\u001b[0margs\u001b[0m\u001b[0;34m,\u001b[0m \u001b[0;34m**\u001b[0m\u001b[0mkwargs\u001b[0m\u001b[0;34m)\u001b[0m\u001b[0;34m\u001b[0m\u001b[0m\n\u001b[0m\u001b[1;32m   2468\u001b[0m         \u001b[0mdraw_if_interactive\u001b[0m\u001b[0;34m(\u001b[0m\u001b[0;34m)\u001b[0m\u001b[0;34m\u001b[0m\u001b[0m\n\u001b[1;32m   2469\u001b[0m     \u001b[0;32mfinally\u001b[0m\u001b[0;34m:\u001b[0m\u001b[0;34m\u001b[0m\u001b[0m\n", 
        "\u001b[0;32m/usr/lib/pymodules/python2.7/matplotlib/axes.pyc\u001b[0m in \u001b[0;36mplot\u001b[0;34m(self, *args, **kwargs)\u001b[0m\n\u001b[1;32m   3891\u001b[0m         \u001b[0mlines\u001b[0m \u001b[0;34m=\u001b[0m \u001b[0;34m[\u001b[0m\u001b[0;34m]\u001b[0m\u001b[0;34m\u001b[0m\u001b[0m\n\u001b[1;32m   3892\u001b[0m \u001b[0;34m\u001b[0m\u001b[0m\n\u001b[0;32m-> 3893\u001b[0;31m         \u001b[0;32mfor\u001b[0m \u001b[0mline\u001b[0m \u001b[0;32min\u001b[0m \u001b[0mself\u001b[0m\u001b[0;34m.\u001b[0m\u001b[0m_get_lines\u001b[0m\u001b[0;34m(\u001b[0m\u001b[0;34m*\u001b[0m\u001b[0margs\u001b[0m\u001b[0;34m,\u001b[0m \u001b[0;34m**\u001b[0m\u001b[0mkwargs\u001b[0m\u001b[0;34m)\u001b[0m\u001b[0;34m:\u001b[0m\u001b[0;34m\u001b[0m\u001b[0m\n\u001b[0m\u001b[1;32m   3894\u001b[0m             \u001b[0mself\u001b[0m\u001b[0;34m.\u001b[0m\u001b[0madd_line\u001b[0m\u001b[0;34m(\u001b[0m\u001b[0mline\u001b[0m\u001b[0;34m)\u001b[0m\u001b[0;34m\u001b[0m\u001b[0m\n\u001b[1;32m   3895\u001b[0m             \u001b[0mlines\u001b[0m\u001b[0;34m.\u001b[0m\u001b[0mappend\u001b[0m\u001b[0;34m(\u001b[0m\u001b[0mline\u001b[0m\u001b[0;34m)\u001b[0m\u001b[0;34m\u001b[0m\u001b[0m\n", 
        "\u001b[0;32m/usr/lib/pymodules/python2.7/matplotlib/axes.pyc\u001b[0m in \u001b[0;36m_grab_next_args\u001b[0;34m(self, *args, **kwargs)\u001b[0m\n\u001b[1;32m    320\u001b[0m                 \u001b[0;32mreturn\u001b[0m\u001b[0;34m\u001b[0m\u001b[0m\n\u001b[1;32m    321\u001b[0m             \u001b[0;32mif\u001b[0m \u001b[0mlen\u001b[0m\u001b[0;34m(\u001b[0m\u001b[0mremaining\u001b[0m\u001b[0;34m)\u001b[0m \u001b[0;34m<=\u001b[0m \u001b[0;36m3\u001b[0m\u001b[0;34m:\u001b[0m\u001b[0;34m\u001b[0m\u001b[0m\n\u001b[0;32m--> 322\u001b[0;31m                 \u001b[0;32mfor\u001b[0m \u001b[0mseg\u001b[0m \u001b[0;32min\u001b[0m \u001b[0mself\u001b[0m\u001b[0;34m.\u001b[0m\u001b[0m_plot_args\u001b[0m\u001b[0;34m(\u001b[0m\u001b[0mremaining\u001b[0m\u001b[0;34m,\u001b[0m \u001b[0mkwargs\u001b[0m\u001b[0;34m)\u001b[0m\u001b[0;34m:\u001b[0m\u001b[0;34m\u001b[0m\u001b[0m\n\u001b[0m\u001b[1;32m    323\u001b[0m                     \u001b[0;32myield\u001b[0m \u001b[0mseg\u001b[0m\u001b[0;34m\u001b[0m\u001b[0m\n\u001b[1;32m    324\u001b[0m                 \u001b[0;32mreturn\u001b[0m\u001b[0;34m\u001b[0m\u001b[0m\n", 
        "\u001b[0;32m/usr/lib/pymodules/python2.7/matplotlib/axes.pyc\u001b[0m in \u001b[0;36m_plot_args\u001b[0;34m(self, tup, kwargs)\u001b[0m\n\u001b[1;32m    298\u001b[0m             \u001b[0mx\u001b[0m \u001b[0;34m=\u001b[0m \u001b[0mnp\u001b[0m\u001b[0;34m.\u001b[0m\u001b[0marange\u001b[0m\u001b[0;34m(\u001b[0m\u001b[0my\u001b[0m\u001b[0;34m.\u001b[0m\u001b[0mshape\u001b[0m\u001b[0;34m[\u001b[0m\u001b[0;36m0\u001b[0m\u001b[0;34m]\u001b[0m\u001b[0;34m,\u001b[0m \u001b[0mdtype\u001b[0m\u001b[0;34m=\u001b[0m\u001b[0mfloat\u001b[0m\u001b[0;34m)\u001b[0m\u001b[0;34m\u001b[0m\u001b[0m\n\u001b[1;32m    299\u001b[0m \u001b[0;34m\u001b[0m\u001b[0m\n\u001b[0;32m--> 300\u001b[0;31m         \u001b[0mx\u001b[0m\u001b[0;34m,\u001b[0m \u001b[0my\u001b[0m \u001b[0;34m=\u001b[0m \u001b[0mself\u001b[0m\u001b[0;34m.\u001b[0m\u001b[0m_xy_from_xy\u001b[0m\u001b[0;34m(\u001b[0m\u001b[0mx\u001b[0m\u001b[0;34m,\u001b[0m \u001b[0my\u001b[0m\u001b[0;34m)\u001b[0m\u001b[0;34m\u001b[0m\u001b[0m\n\u001b[0m\u001b[1;32m    301\u001b[0m \u001b[0;34m\u001b[0m\u001b[0m\n\u001b[1;32m    302\u001b[0m         \u001b[0;32mif\u001b[0m \u001b[0mself\u001b[0m\u001b[0;34m.\u001b[0m\u001b[0mcommand\u001b[0m \u001b[0;34m==\u001b[0m \u001b[0;34m'plot'\u001b[0m\u001b[0;34m:\u001b[0m\u001b[0;34m\u001b[0m\u001b[0m\n", 
        "\u001b[0;32m/usr/lib/pymodules/python2.7/matplotlib/axes.pyc\u001b[0m in \u001b[0;36m_xy_from_xy\u001b[0;34m(self, x, y)\u001b[0m\n\u001b[1;32m    238\u001b[0m         \u001b[0my\u001b[0m \u001b[0;34m=\u001b[0m \u001b[0mnp\u001b[0m\u001b[0;34m.\u001b[0m\u001b[0matleast_1d\u001b[0m\u001b[0;34m(\u001b[0m\u001b[0my\u001b[0m\u001b[0;34m)\u001b[0m\u001b[0;34m\u001b[0m\u001b[0m\n\u001b[1;32m    239\u001b[0m         \u001b[0;32mif\u001b[0m \u001b[0mx\u001b[0m\u001b[0;34m.\u001b[0m\u001b[0mshape\u001b[0m\u001b[0;34m[\u001b[0m\u001b[0;36m0\u001b[0m\u001b[0;34m]\u001b[0m \u001b[0;34m!=\u001b[0m \u001b[0my\u001b[0m\u001b[0;34m.\u001b[0m\u001b[0mshape\u001b[0m\u001b[0;34m[\u001b[0m\u001b[0;36m0\u001b[0m\u001b[0;34m]\u001b[0m\u001b[0;34m:\u001b[0m\u001b[0;34m\u001b[0m\u001b[0m\n\u001b[0;32m--> 240\u001b[0;31m             \u001b[0;32mraise\u001b[0m \u001b[0mValueError\u001b[0m\u001b[0;34m(\u001b[0m\u001b[0;34m\"x and y must have same first dimension\"\u001b[0m\u001b[0;34m)\u001b[0m\u001b[0;34m\u001b[0m\u001b[0m\n\u001b[0m\u001b[1;32m    241\u001b[0m         \u001b[0;32mif\u001b[0m \u001b[0mx\u001b[0m\u001b[0;34m.\u001b[0m\u001b[0mndim\u001b[0m \u001b[0;34m>\u001b[0m \u001b[0;36m2\u001b[0m \u001b[0;32mor\u001b[0m \u001b[0my\u001b[0m\u001b[0;34m.\u001b[0m\u001b[0mndim\u001b[0m \u001b[0;34m>\u001b[0m \u001b[0;36m2\u001b[0m\u001b[0;34m:\u001b[0m\u001b[0;34m\u001b[0m\u001b[0m\n\u001b[1;32m    242\u001b[0m             \u001b[0;32mraise\u001b[0m \u001b[0mValueError\u001b[0m\u001b[0;34m(\u001b[0m\u001b[0;34m\"x and y can be no greater than 2-D\"\u001b[0m\u001b[0;34m)\u001b[0m\u001b[0;34m\u001b[0m\u001b[0m\n", 
        "\u001b[0;31mValueError\u001b[0m: x and y must have same first dimension"
       ]
      }, 
      {
       "output_type": "display_data", 
       "png": "[encoded data removed]"
      }
     ], 
     "prompt_number": 16
    }, 
    {
     "cell_type": "code", 
     "collapsed": false, 
     "input": [
      "############################### analysis of correlation of ribosomal proteins within themselves and of other proteins to the ribosomal average.", 
      "# iterate over all ribosomal proteins and for each one calculate its covariance with the sum of the rest.", 
      "# plot the resulting distribution to give an indication for ideal distribution of correlation with ribosomal proteins", 
      "", 
      "covs = []", 
      "for row_index, row in ribs_data.iterrows():", 
      "    rest_avg = ribs_data.drop(row_index).sum()", 
      "    covs.append(row.cov(rest_avg)/(row.std() * rest_avg.std()))", 
      "    ", 
      "density = gaussian_kde(covs)", 
      "xs = linspace(-1,1,100)", 
      "plot(xs,density(xs))", 
      "", 
      "# Now repeat for all of the data:", 
      "", 
      "ribs_avg = ribs_data.sum()", 
      "covs = []", 
      "for row_index, row in ecoli_data_weight_ex_desc.iterrows():", 
      "    covs.append(row.cov(ribs_avg)/(row.std() * ribs_avg.std()))", 
      "    ", 
      "density = gaussian_kde(covs)", 
      "xs = linspace(-1,1,100)", 
      "plot(xs,density(xs))"
     ], 
     "language": "python", 
     "outputs": [
      {
       "output_type": "pyout", 
       "prompt_number": 17, 
       "text": [
        "[<matplotlib.lines.Line2D at 0xa2ae3ec>]"
       ]
      }, 
      {
       "output_type": "display_data", 
       "png": "[encoded data removed]"
      }
     ], 
     "prompt_number": 17
    }, 
    {
     "cell_type": "code", 
     "collapsed": false, 
     "input": [
      "range (0,4)"
     ], 
     "language": "python", 
     "outputs": [
      {
       "output_type": "pyout", 
       "prompt_number": 74, 
       "text": [
        "[0, 1, 2, 3]"
       ]
      }
     ], 
     "prompt_number": 74
    }, 
    {
     "cell_type": "code", 
     "collapsed": false, 
     "input": [], 
     "language": "python", 
     "outputs": []
    }
   ]
  }
 ]
}