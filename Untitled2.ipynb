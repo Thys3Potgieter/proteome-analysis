{
 "metadata": {
  "name": ""
 },
 "nbformat": 3,
 "nbformat_minor": 0,
 "worksheets": [
  {
   "cells": [
    {
     "cell_type": "code",
     "collapsed": false,
     "input": [
      "from Bio import SeqIO\n",
      "genome = SeqIO.read('U00096.2.gbk','genbank')\n",
      "genome2 = SeqIO.parse('NC_000913.gbk','genbank')"
     ],
     "language": "python",
     "metadata": {},
     "outputs": [],
     "prompt_number": 5
    },
    {
     "cell_type": "code",
     "collapsed": false,
     "input": [
      "genome.features[2].location.start.real"
     ],
     "language": "python",
     "metadata": {},
     "outputs": [
      {
       "output_type": "pyout",
       "prompt_number": 39,
       "text": [
        "189"
       ]
      }
     ],
     "prompt_number": 39
    },
    {
     "cell_type": "code",
     "collapsed": false,
     "input": [
      "locus_to_offset = {}\n",
      "for feat in genome.features:\n",
      "    if feat.type == 'CDS':\n",
      "       locus_to_offset[feat.qualifiers['locus_tag'][0]]=feat.location.start.real\n",
      "print locus_to_offset.keys()[0]\n",
      "print max(locus_to_offset.values())"
     ],
     "language": "python",
     "metadata": {},
     "outputs": [
      {
       "output_type": "stream",
       "stream": "stdout",
       "text": [
        "b3356\n",
        "4638964\n"
       ]
      }
     ],
     "prompt_number": 45
    },
    {
     "cell_type": "code",
     "collapsed": false,
     "input": [
      "uniprot_to_locus = {}\n",
      "for row in open('all_ecoli_genes.txt','r'):\n",
      "    uniprot_to_locus[row[48:54]]=row[0:5]\n",
      "print uniprot_to_locus.values()[:5]\n",
      "    "
     ],
     "language": "python",
     "metadata": {},
     "outputs": [
      {
       "output_type": "stream",
       "stream": "stdout",
       "text": [
        "['b3525', 'b2800', 'b3524', 'b3522', 'b3523']\n"
       ]
      }
     ],
     "prompt_number": 27
    },
    {
     "cell_type": "code",
     "collapsed": false,
     "input": [
      "uniprot_to_location = {}\n",
      "for uni in uniprot_to_locus.keys():\n",
      "    if uniprot_to_locus[uni] in locus_to_offset.keys():\n",
      "\tuniprot_to_location[uni]= locus_to_offset[uniprot_to_locus[uni]]\n",
      "print len(uniprot_to_location.keys())\n",
      "print len(uniprot_to_locus.keys())\n"
     ],
     "language": "python",
     "metadata": {},
     "outputs": [
      {
       "output_type": "stream",
       "stream": "stdout",
       "text": [
        "4176\n",
        "4302\n"
       ]
      }
     ],
     "prompt_number": 48
    },
    {
     "cell_type": "code",
     "collapsed": false,
     "input": [
      "x = [1,2,3,4]\n",
      "y=[4,5,6,7]\n"
     ],
     "language": "python",
     "metadata": {},
     "outputs": [],
     "prompt_number": 1
    },
    {
     "cell_type": "code",
     "collapsed": false,
     "input": [
      "plot(x,y)"
     ],
     "language": "python",
     "metadata": {},
     "outputs": [
      {
       "metadata": {},
       "output_type": "pyout",
       "prompt_number": 2,
       "text": [
        "[<matplotlib.lines.Line2D at 0xb0d2440c>]"
       ]
      },
      {
       "metadata": {},
       "output_type": "display_data",
       "png": "[encoded data removed]",
       "text": [
        "<matplotlib.figure.Figure at 0xb15c032c>"
       ]
      }
     ],
     "prompt_number": 2
    },
    {
     "cell_type": "code",
     "collapsed": false,
     "input": [],
     "language": "python",
     "metadata": {},
     "outputs": []
    }
   ],
   "metadata": {}
  }
 ]
}